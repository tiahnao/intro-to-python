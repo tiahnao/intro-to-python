{
 "cells": [
  {
   "cell_type": "code",
   "execution_count": 1,
   "metadata": {},
   "outputs": [],
   "source": [
    "import pandas as pd\n",
    "\n",
    "challenge_1_data = {\n",
    "    'ID': [1, 2, 3, 4, 5, 1, 6, 7, 8, 9, 10, 2, 11, 12, 13, 14, 15],\n",
    "    'Name': ['Alice', 'Bob', 'Charlie', 'David', 'Eva', 'Alice', 'Frank', 'Grace', 'Henry', 'Ivy', 'Jack', 'Bob', 'Alice', 'Liam', 'Mia', 'Noah', 'Olivia'],\n",
    "    'Age': [28, 35, None, 32, 28, 28, 45, 38, None, 29, 34, None, 28, 26, None, 31, 27],\n",
    "    'Salary': [60000, 75000, 80000, 90000, 70000, 60000, None, 80000, 75000, 65000, None, 72000, 60000, 85000, None, 92000, 88000],\n",
    "    'Role': ['Engineer', 'Manager', 'Analyst', 'Director', 'Assistant', 'Engineer', None, 'Analyst', 'Director', 'Assistant', 'Manager', 'Manager', 'Engineer', 'Engineer', 'Manager', 'Director', 'Analyst'],\n",
    "    'OfficeLocation': ['New York', 'San Francisco', 'Los Angeles', 'Chicago', 'Boston', 'New York', 'San Francisco', 'Los Angeles', None, 'Boston', 'San Francisco', 'San Francisco', 'New York', 'New York', None, 'Chicago', 'Boston']\n",
    "}\n",
    "\n",
    "challenge_1_df = pd.DataFrame(challenge_1_data)\n"
   ]
  },
  {
   "cell_type": "code",
   "execution_count": 2,
   "metadata": {},
   "outputs": [],
   "source": [
    "challenge_2_dataset_1 = {\n",
    "    'ID': [1, 2, 3, 4, 5, 6, 7, 8, 9, 10],\n",
    "    'Name': ['Alice', 'Bob', 'Charlie', 'David', 'Eva', 'Frank', 'Grace', 'Henry', 'Ivy', 'Jack'],\n",
    "    'Age': [28, 35, 32, 45, 28, 45, 38, None, 29, 34],\n",
    "    'Hobby': ['Reading', 'Gaming', 'Painting', 'Cooking', 'Traveling', 'Photography', 'Playing Instruments', 'Fishing', 'Hiking', 'Sports'],\n",
    "    'Salary': [60000, 75000, 80000, 90000, 70000, 85000, 80000, 75000, 65000, 72000]\n",
    "}\n",
    "\n",
    "challenge_2_df_1 = pd.DataFrame(challenge_2_dataset_1)"
   ]
  },
  {
   "cell_type": "code",
   "execution_count": 3,
   "metadata": {},
   "outputs": [],
   "source": [
    "challenge_2_dataset_2 = {\n",
    "    'ID': [1, 2, 3, 4, 5, 11, 12, 13, 14, 15],\n",
    "    'Role': ['Engineer', 'Manager', 'Analyst', 'Director', 'Assistant', 'Manager', 'Engineer', 'Manager', 'Director', 'Analyst'],\n",
    "    'Pet': [None, 'Dog', 'Cat', 'Fish', None, 'Cat', 'Dog', None, 'Parrot', 'Dog'],\n",
    "    'FavoriteFood': ['Pizza', 'Sushi', 'Pasta', 'Burger', 'Salad', 'Sushi', 'Pizza', 'Burrito', 'Steak', 'Pizza'],\n",
    "    'OfficeLocation': ['New York', 'San Francisco', 'Los Angeles', 'Chicago', 'Boston', 'San Francisco', 'New York', 'Chicago', 'Boston', None]\n",
    "}\n",
    "\n",
    "challenge_2_df_2 = pd.DataFrame(challenge_2_dataset_2)"
   ]
  },
  {
   "cell_type": "code",
   "execution_count": null,
   "metadata": {},
   "outputs": [],
   "source": []
  }
 ],
 "metadata": {
  "kernelspec": {
   "display_name": "Python 3",
   "language": "python",
   "name": "python3"
  },
  "language_info": {
   "codemirror_mode": {
    "name": "ipython",
    "version": 3
   },
   "file_extension": ".py",
   "mimetype": "text/x-python",
   "name": "python",
   "nbconvert_exporter": "python",
   "pygments_lexer": "ipython3",
   "version": "3.10.13"
  }
 },
 "nbformat": 4,
 "nbformat_minor": 2
}
